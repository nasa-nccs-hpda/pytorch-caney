{
 "cells": [
  {
   "cell_type": "code",
   "execution_count": 1,
   "id": "cf77f8bb-80ca-48c6-bd99-97a7fff86782",
   "metadata": {},
   "outputs": [
    {
     "name": "stdout",
     "output_type": "stream",
     "text": [
      "/lustre/orion/geo160/proj-shared/hackathon/jli30/runs/mim_pretrain_675m_2m_128_window8_onecycle_hackathon_lamb_debug\n"
     ]
    },
    {
     "name": "stderr",
     "output_type": "stream",
     "text": [
      "/tmp/ipykernel_285/3984413349.py:4: DeprecationWarning: Importing display from IPython.core.display is deprecated since IPython 7.14, please import from IPython display\n",
      "  from IPython.core.display import display, HTML\n"
     ]
    }
   ],
   "source": [
    "import os, pwd\n",
    "from tensorboard import notebook\n",
    "import getpass\n",
    "from IPython.core.display import display, HTML\n",
    "\n",
    "def get_pid_owner(pid):    # the /proc/PID is owned by process creator    \n",
    "    proc_stat_file = os.stat(\"/proc/%d\" % pid)    \n",
    "    # get UID via stat call    \n",
    "    uid = proc_stat_file.st_uid    \n",
    "    # look up the username from uid    \n",
    "    username = pwd.getpwuid(uid)[0]        \n",
    "    \n",
    "    return username\n",
    "\n",
    "def get_tb_port(username):        \n",
    "    for tb_nb in notebook.manager.get_all():        \n",
    "        if get_pid_owner(tb_nb.pid) == username:            \n",
    "            return tb_nb.port    \n",
    "        \n",
    "def tb_address():        \n",
    "    username = getpass.getuser()    \n",
    "    tb_port = get_tb_port(username)        \n",
    "    address = \"https://jupyter.olcf.ornl.gov\" + os.environ['JUPYTERHUB_SERVICE_PREFIX'] + 'proxy/' + str(tb_port) + \"/\"    \n",
    "    address = address.strip()\n",
    "    \n",
    "    display(HTML('<a href=\"%s\">%s</a>'%(address,address)))\n",
    "    \n",
    "# %load_ext tensorboard  \n",
    "%reload_ext tensorboard\n",
    "\n",
    "username = os.environ['JUPYTERHUB_USER']\n",
    "# log_dir = os.path.expandvars('/lustre/orion/proj-shared/geo152/hackathon_Fall24')\n",
    "log_dir = os.path.expandvars('/lustre/orion/geo160/proj-shared/hackathon/jli30/runs/mim_pretrain_675m_2m_128_window8_onecycle_hackathon_lamb_debug')\n",
    "#log_dir = os.path.expandvars('/lustre/orion/geo160/proj-shared/hackathon/jli30/log/svtoa')\n",
    "print(log_dir)"
   ]
  },
  {
   "cell_type": "code",
   "execution_count": null,
   "id": "58268832-4d72-48df-a2d9-e7af69958dca",
   "metadata": {},
   "outputs": [],
   "source": [
    "!pip install torch_tb_profiler"
   ]
  },
  {
   "cell_type": "code",
   "execution_count": 2,
   "id": "6bdd6520-dcf4-488f-9e3d-cd3d829e2ca1",
   "metadata": {},
   "outputs": [
    {
     "name": "stderr",
     "output_type": "stream",
     "text": [
      "UsageError: %%capture is a cell magic, but the cell body is empty.\n"
     ]
    }
   ],
   "source": [
    "%%capture"
   ]
  },
  {
   "cell_type": "code",
   "execution_count": 3,
   "id": "c431a92d-1e35-4da8-9508-8ae8fd0f881f",
   "metadata": {},
   "outputs": [
    {
     "data": {
      "text/html": [
       "\n",
       "      <iframe id=\"tensorboard-frame-879a733a13607e53\" width=\"100%\" height=\"800\" frameborder=\"0\">\n",
       "      </iframe>\n",
       "      <script>\n",
       "        (function() {\n",
       "          const frame = document.getElementById(\"tensorboard-frame-879a733a13607e53\");\n",
       "          const url = new URL(\"/\", window.location);\n",
       "          const port = 34273;\n",
       "          if (port) {\n",
       "            url.port = port;\n",
       "          }\n",
       "          frame.src = url;\n",
       "        })();\n",
       "      </script>\n",
       "    "
      ],
      "text/plain": [
       "<IPython.core.display.HTML object>"
      ]
     },
     "metadata": {},
     "output_type": "display_data"
    },
    {
     "data": {
      "text/html": [
       "<a href=\"https://jupyter.olcf.ornl.gov/user/jli30/proxy/34273/\">https://jupyter.olcf.ornl.gov/user/jli30/proxy/34273/</a>"
      ],
      "text/plain": [
       "<IPython.core.display.HTML object>"
      ]
     },
     "metadata": {},
     "output_type": "display_data"
    }
   ],
   "source": [
    "%tensorboard --logdir $log_dir --port 0\n",
    "\n",
    "tb_address()"
   ]
  },
  {
   "cell_type": "code",
   "execution_count": null,
   "id": "ee302434-c511-4391-b6ca-f710701c5c98",
   "metadata": {},
   "outputs": [],
   "source": []
  },
  {
   "cell_type": "code",
   "execution_count": null,
   "id": "354c4cdb-a3c8-4524-902a-f3a9fbdea724",
   "metadata": {},
   "outputs": [],
   "source": []
  }
 ],
 "metadata": {
  "kernelspec": {
   "display_name": "OLCF-base (ipykernel)",
   "language": "python",
   "name": "python3"
  },
  "language_info": {
   "codemirror_mode": {
    "name": "ipython",
    "version": 3
   },
   "file_extension": ".py",
   "mimetype": "text/x-python",
   "name": "python",
   "nbconvert_exporter": "python",
   "pygments_lexer": "ipython3",
   "version": "3.11.7"
  }
 },
 "nbformat": 4,
 "nbformat_minor": 5
}
