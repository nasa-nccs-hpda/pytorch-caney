{
 "cells": [
  {
   "cell_type": "code",
   "execution_count": 1,
   "id": "cf77f8bb-80ca-48c6-bd99-97a7fff86782",
   "metadata": {},
   "outputs": [
    {
     "name": "stderr",
     "output_type": "stream",
     "text": [
      "2024-08-27 14:40:10.036795: I external/local_tsl/tsl/cuda/cudart_stub.cc:32] Could not find cuda drivers on your machine, GPU will not be used.\n",
      "2024-08-27 14:40:10.041036: I external/local_tsl/tsl/cuda/cudart_stub.cc:32] Could not find cuda drivers on your machine, GPU will not be used.\n",
      "2024-08-27 14:40:10.084690: I tensorflow/core/platform/cpu_feature_guard.cc:210] This TensorFlow binary is optimized to use available CPU instructions in performance-critical operations.\n",
      "To enable the following instructions: AVX2 FMA, in other operations, rebuild TensorFlow with the appropriate compiler flags.\n",
      "2024-08-27 14:40:10.981486: W tensorflow/compiler/tf2tensorrt/utils/py_utils.cc:38] TF-TRT Warning: Could not find TensorRT\n"
     ]
    }
   ],
   "source": [
    "import torch\n",
    "from torch.utils.tensorboard import SummaryWriter\n",
    "writer = SummaryWriter()"
   ]
  },
  {
   "cell_type": "code",
   "execution_count": 9,
   "id": "a592334b-02d2-4a0b-ab9c-29b071e47f07",
   "metadata": {},
   "outputs": [],
   "source": [
    "x = torch.arange(-5, 5, 0.1).view(-1, 1)\n",
    "y = -5 * x + 0.1 * torch.randn(x.size())\n",
    "\n",
    "model = torch.nn.Linear(1, 1)\n",
    "criterion = torch.nn.MSELoss()\n",
    "optimizer = torch.optim.SGD(model.parameters(), lr = 0.1)\n",
    "\n",
    "def train_model(iter):\n",
    "    for epoch in range(iter):\n",
    "        y1 = model(x)\n",
    "        loss = criterion(y1, y)\n",
    "        writer.add_scalar(\"Loss/train\", loss, epoch)\n",
    "        optimizer.zero_grad()\n",
    "        loss.backward()\n",
    "        optimizer.step()\n",
    "        for tag, param in model.named_parameters():\n",
    "            writer.add_histogram(tag, param.grad.data, epoch)\n",
    "\n",
    "train_model(10)\n",
    "writer.flush()"
   ]
  },
  {
   "cell_type": "code",
   "execution_count": 10,
   "id": "8071a6ae-8a96-46eb-975a-338c08cf2026",
   "metadata": {},
   "outputs": [],
   "source": [
    "writer.close()"
   ]
  },
  {
   "cell_type": "code",
   "execution_count": 11,
   "id": "09919aaa-4e2e-4e38-a4ca-c72d4b7da92c",
   "metadata": {},
   "outputs": [
    {
     "name": "stdout",
     "output_type": "stream",
     "text": [
      "runs\n"
     ]
    },
    {
     "name": "stderr",
     "output_type": "stream",
     "text": [
      "/tmp/ipykernel_520/3854095562.py:4: DeprecationWarning: Importing display from IPython.core.display is deprecated since IPython 7.14, please import from IPython display\n",
      "  from IPython.core.display import display, HTML\n"
     ]
    }
   ],
   "source": [
    "import os, pwd\n",
    "from tensorboard import notebook\n",
    "import getpass\n",
    "from IPython.core.display import display, HTML\n",
    "\n",
    "def get_pid_owner(pid):    # the /proc/PID is owned by process creator    \n",
    "    proc_stat_file = os.stat(\"/proc/%d\" % pid)    \n",
    "    # get UID via stat call    \n",
    "    uid = proc_stat_file.st_uid    \n",
    "    # look up the username from uid    \n",
    "    username = pwd.getpwuid(uid)[0]        \n",
    "    \n",
    "    return username\n",
    "\n",
    "def get_tb_port(username):        \n",
    "    for tb_nb in notebook.manager.get_all():        \n",
    "        if get_pid_owner(tb_nb.pid) == username:            \n",
    "            return tb_nb.port    \n",
    "        \n",
    "def tb_address():        \n",
    "    username = getpass.getuser()    \n",
    "    tb_port = get_tb_port(username)        \n",
    "    address = \"https://jupyter.olcf.ornl.gov\" + os.environ['JUPYTERHUB_SERVICE_PREFIX'] + 'proxy/' + str(tb_port) + \"/\"    \n",
    "    address = address.strip()\n",
    "    \n",
    "    display(HTML('<a href=\"%s\">%s</a>'%(address,address)))\n",
    "    \n",
    "# %load_ext tensorboard  \n",
    "%reload_ext tensorboard\n",
    "\n",
    "username = os.environ['JUPYTERHUB_USER']\n",
    "# log_dir = os.path.expandvars('/lustre/orion/proj-shared/geo152/hackathon_Fall24')\n",
    "log_dir = os.path.expandvars('runs')\n",
    "print(log_dir)"
   ]
  },
  {
   "cell_type": "code",
   "execution_count": 12,
   "id": "6bdd6520-dcf4-488f-9e3d-cd3d829e2ca1",
   "metadata": {},
   "outputs": [
    {
     "name": "stderr",
     "output_type": "stream",
     "text": [
      "UsageError: %%capture is a cell magic, but the cell body is empty.\n"
     ]
    }
   ],
   "source": [
    "%%capture"
   ]
  },
  {
   "cell_type": "code",
   "execution_count": 13,
   "id": "c431a92d-1e35-4da8-9508-8ae8fd0f881f",
   "metadata": {},
   "outputs": [
    {
     "data": {
      "text/plain": [
       "Reusing TensorBoard on port 33327 (pid 550), started 0:02:52 ago. (Use '!kill 550' to kill it.)"
      ]
     },
     "metadata": {},
     "output_type": "display_data"
    },
    {
     "data": {
      "text/html": [
       "\n",
       "      <iframe id=\"tensorboard-frame-6a7c993b2662ee54\" width=\"100%\" height=\"800\" frameborder=\"0\">\n",
       "      </iframe>\n",
       "      <script>\n",
       "        (function() {\n",
       "          const frame = document.getElementById(\"tensorboard-frame-6a7c993b2662ee54\");\n",
       "          const url = new URL(\"/\", window.location);\n",
       "          const port = 33327;\n",
       "          if (port) {\n",
       "            url.port = port;\n",
       "          }\n",
       "          frame.src = url;\n",
       "        })();\n",
       "      </script>\n",
       "    "
      ],
      "text/plain": [
       "<IPython.core.display.HTML object>"
      ]
     },
     "metadata": {},
     "output_type": "display_data"
    },
    {
     "data": {
      "text/html": [
       "<a href=\"https://jupyter.olcf.ornl.gov/user/cssprad1/proxy/33327/\">https://jupyter.olcf.ornl.gov/user/cssprad1/proxy/33327/</a>"
      ],
      "text/plain": [
       "<IPython.core.display.HTML object>"
      ]
     },
     "metadata": {},
     "output_type": "display_data"
    }
   ],
   "source": [
    "%tensorboard --logdir $log_dir --port 0\n",
    "\n",
    "tb_address()"
   ]
  },
  {
   "cell_type": "code",
   "execution_count": null,
   "id": "2c34eb7e-91ad-40c4-9895-cee83a38a4c9",
   "metadata": {},
   "outputs": [],
   "source": []
  }
 ],
 "metadata": {
  "kernelspec": {
   "display_name": "OLCF-base (ipykernel)",
   "language": "python",
   "name": "python3"
  },
  "language_info": {
   "codemirror_mode": {
    "name": "ipython",
    "version": 3
   },
   "file_extension": ".py",
   "mimetype": "text/x-python",
   "name": "python",
   "nbconvert_exporter": "python",
   "pygments_lexer": "ipython3",
   "version": "3.11.7"
  }
 },
 "nbformat": 4,
 "nbformat_minor": 5
}
